{
 "cells": [
  {
   "cell_type": "code",
   "execution_count": 3,
   "id": "a87988c6",
   "metadata": {},
   "outputs": [],
   "source": [
    "#DATA ANALYSIS\n",
    "    #WHAT IS DATA ANALYSIS\n",
    "        #Process of inspecting, cleansing, transforming and modelling data with goal of discovering useful information, \n",
    "        #informing conclusion and support decision making .\n",
    "    # Tools for DATA ANALYTICS:\n",
    "        #Softwares:\n",
    "            # Excel, Tabelau\n",
    "        #Programming Languages\n",
    "            # Python , R\n",
    "    #Softwares vs Programming Languages\n",
    "        # Disadvantages of Softwares:\n",
    "            #Closed , Limited Applications\n",
    "        # Disadvantages of Programming Languages\n",
    "            # Hard to learn Programming Language for people with no background\n",
    "    #Process of Data Analysis\n",
    "        #Step 1 : Getting the data\n",
    "        #Step 2: Cleaning the data\n",
    "        #Step 3: Reshaping the data\n",
    "        #Step 4: Implement Machine Learning\n",
    "    # Diffrence between Data science and Data Analysis\n",
    "        # Data scientist are more techinical \n",
    "    #Python for Data Analysis:\n",
    "        # Pandas, Matplotlib, Numpy, Seaborn\n",
    "    #Thinking of Python Data Analysts\n",
    "    # No constant visual reference of data \n"
   ]
  },
  {
   "cell_type": "code",
   "execution_count": 4,
   "id": "ceac9d56",
   "metadata": {},
   "outputs": [],
   "source": []
  },
  {
   "cell_type": "code",
   "execution_count": null,
   "id": "f5f61d20",
   "metadata": {},
   "outputs": [],
   "source": []
  }
 ],
 "metadata": {
  "kernelspec": {
   "display_name": "Python 3 (ipykernel)",
   "language": "python",
   "name": "python3"
  },
  "language_info": {
   "codemirror_mode": {
    "name": "ipython",
    "version": 3
   },
   "file_extension": ".py",
   "mimetype": "text/x-python",
   "name": "python",
   "nbconvert_exporter": "python",
   "pygments_lexer": "ipython3",
   "version": "3.9.12"
  }
 },
 "nbformat": 4,
 "nbformat_minor": 5
}
