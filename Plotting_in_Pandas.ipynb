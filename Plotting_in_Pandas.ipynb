{
 "cells": [
  {
   "cell_type": "code",
   "execution_count": 1,
   "id": "8629b0c0",
   "metadata": {},
   "outputs": [],
   "source": [
    "import pandas as pd"
   ]
  },
  {
   "cell_type": "code",
   "execution_count": 15,
   "id": "e9e04947",
   "metadata": {},
   "outputs": [
    {
     "data": {
      "text/html": [
       "<div>\n",
       "<style scoped>\n",
       "    .dataframe tbody tr th:only-of-type {\n",
       "        vertical-align: middle;\n",
       "    }\n",
       "\n",
       "    .dataframe tbody tr th {\n",
       "        vertical-align: top;\n",
       "    }\n",
       "\n",
       "    .dataframe thead th {\n",
       "        text-align: right;\n",
       "    }\n",
       "</style>\n",
       "<table border=\"1\" class=\"dataframe\">\n",
       "  <thead>\n",
       "    <tr style=\"text-align: right;\">\n",
       "      <th></th>\n",
       "      <th>Open</th>\n",
       "      <th>High</th>\n",
       "      <th>Low</th>\n",
       "      <th>Close</th>\n",
       "      <th>Adj Close</th>\n",
       "      <th>Volume</th>\n",
       "    </tr>\n",
       "    <tr>\n",
       "      <th>Date</th>\n",
       "      <th></th>\n",
       "      <th></th>\n",
       "      <th></th>\n",
       "      <th></th>\n",
       "      <th></th>\n",
       "      <th></th>\n",
       "    </tr>\n",
       "  </thead>\n",
       "  <tbody>\n",
       "    <tr>\n",
       "      <th>2021-07-07</th>\n",
       "      <td>172.860001</td>\n",
       "      <td>174.320007</td>\n",
       "      <td>171.990005</td>\n",
       "      <td>172.820007</td>\n",
       "      <td>172.820007</td>\n",
       "      <td>6757300</td>\n",
       "    </tr>\n",
       "    <tr>\n",
       "      <th>2021-07-08</th>\n",
       "      <td>170.179993</td>\n",
       "      <td>173.750000</td>\n",
       "      <td>169.809998</td>\n",
       "      <td>172.800003</td>\n",
       "      <td>172.800003</td>\n",
       "      <td>6960100</td>\n",
       "    </tr>\n",
       "    <tr>\n",
       "      <th>2021-07-09</th>\n",
       "      <td>174.699997</td>\n",
       "      <td>177.520004</td>\n",
       "      <td>173.929993</td>\n",
       "      <td>177.039993</td>\n",
       "      <td>177.039993</td>\n",
       "      <td>7873300</td>\n",
       "    </tr>\n",
       "    <tr>\n",
       "      <th>2021-07-12</th>\n",
       "      <td>177.710007</td>\n",
       "      <td>184.990005</td>\n",
       "      <td>177.369995</td>\n",
       "      <td>184.380005</td>\n",
       "      <td>184.380005</td>\n",
       "      <td>21835500</td>\n",
       "    </tr>\n",
       "    <tr>\n",
       "      <th>2021-07-13</th>\n",
       "      <td>184.089996</td>\n",
       "      <td>185.669998</td>\n",
       "      <td>181.839996</td>\n",
       "      <td>183.649994</td>\n",
       "      <td>183.649994</td>\n",
       "      <td>12534600</td>\n",
       "    </tr>\n",
       "    <tr>\n",
       "      <th>...</th>\n",
       "      <td>...</td>\n",
       "      <td>...</td>\n",
       "      <td>...</td>\n",
       "      <td>...</td>\n",
       "      <td>...</td>\n",
       "      <td>...</td>\n",
       "    </tr>\n",
       "    <tr>\n",
       "      <th>2022-06-29</th>\n",
       "      <td>95.949997</td>\n",
       "      <td>96.199997</td>\n",
       "      <td>94.529999</td>\n",
       "      <td>95.650002</td>\n",
       "      <td>95.650002</td>\n",
       "      <td>8653200</td>\n",
       "    </tr>\n",
       "    <tr>\n",
       "      <th>2022-06-30</th>\n",
       "      <td>94.419998</td>\n",
       "      <td>95.440002</td>\n",
       "      <td>92.540001</td>\n",
       "      <td>94.400002</td>\n",
       "      <td>94.400002</td>\n",
       "      <td>10983500</td>\n",
       "    </tr>\n",
       "    <tr>\n",
       "      <th>2022-07-01</th>\n",
       "      <td>94.239998</td>\n",
       "      <td>96.309998</td>\n",
       "      <td>93.980003</td>\n",
       "      <td>96.139999</td>\n",
       "      <td>96.139999</td>\n",
       "      <td>10536400</td>\n",
       "    </tr>\n",
       "    <tr>\n",
       "      <th>2022-07-05</th>\n",
       "      <td>94.260002</td>\n",
       "      <td>97.230003</td>\n",
       "      <td>92.309998</td>\n",
       "      <td>97.180000</td>\n",
       "      <td>97.180000</td>\n",
       "      <td>10660600</td>\n",
       "    </tr>\n",
       "    <tr>\n",
       "      <th>2022-07-06</th>\n",
       "      <td>97.529999</td>\n",
       "      <td>98.190002</td>\n",
       "      <td>95.400002</td>\n",
       "      <td>96.080002</td>\n",
       "      <td>96.080002</td>\n",
       "      <td>8633500</td>\n",
       "    </tr>\n",
       "  </tbody>\n",
       "</table>\n",
       "<p>252 rows × 6 columns</p>\n",
       "</div>"
      ],
      "text/plain": [
       "                  Open        High         Low       Close   Adj Close  \\\n",
       "Date                                                                     \n",
       "2021-07-07  172.860001  174.320007  171.990005  172.820007  172.820007   \n",
       "2021-07-08  170.179993  173.750000  169.809998  172.800003  172.800003   \n",
       "2021-07-09  174.699997  177.520004  173.929993  177.039993  177.039993   \n",
       "2021-07-12  177.710007  184.990005  177.369995  184.380005  184.380005   \n",
       "2021-07-13  184.089996  185.669998  181.839996  183.649994  183.649994   \n",
       "...                ...         ...         ...         ...         ...   \n",
       "2022-06-29   95.949997   96.199997   94.529999   95.650002   95.650002   \n",
       "2022-06-30   94.419998   95.440002   92.540001   94.400002   94.400002   \n",
       "2022-07-01   94.239998   96.309998   93.980003   96.139999   96.139999   \n",
       "2022-07-05   94.260002   97.230003   92.309998   97.180000   97.180000   \n",
       "2022-07-06   97.529999   98.190002   95.400002   96.080002   96.080002   \n",
       "\n",
       "              Volume  \n",
       "Date                  \n",
       "2021-07-07   6757300  \n",
       "2021-07-08   6960100  \n",
       "2021-07-09   7873300  \n",
       "2021-07-12  21835500  \n",
       "2021-07-13  12534600  \n",
       "...              ...  \n",
       "2022-06-29   8653200  \n",
       "2022-06-30  10983500  \n",
       "2022-07-01  10536400  \n",
       "2022-07-05  10660600  \n",
       "2022-07-06   8633500  \n",
       "\n",
       "[252 rows x 6 columns]"
      ]
     },
     "execution_count": 15,
     "metadata": {},
     "output_type": "execute_result"
    }
   ],
   "source": [
    "df = pd.read_csv('./DIS.csv',\n",
    "                index_col = 0)\n",
    "df"
   ]
  },
  {
   "cell_type": "code",
   "execution_count": 16,
   "id": "b75f8533",
   "metadata": {},
   "outputs": [
    {
     "data": {
      "text/plain": [
       "Open         1.728600e+02\n",
       "High         1.743200e+02\n",
       "Low          1.719900e+02\n",
       "Close        1.728200e+02\n",
       "Adj Close    1.728200e+02\n",
       "Volume       6.757300e+06\n",
       "Name: 2021-07-07, dtype: float64"
      ]
     },
     "execution_count": 16,
     "metadata": {},
     "output_type": "execute_result"
    }
   ],
   "source": [
    "df.loc['2021-07-07']"
   ]
  },
  {
   "cell_type": "code",
   "execution_count": 17,
   "id": "9c23b394",
   "metadata": {},
   "outputs": [],
   "source": [
    "#Plotting Graphs according to the data"
   ]
  },
  {
   "cell_type": "code",
   "execution_count": 20,
   "id": "fd84f399",
   "metadata": {},
   "outputs": [
    {
     "data": {
      "text/plain": [
       "<AxesSubplot:xlabel='Date'>"
      ]
     },
     "execution_count": 20,
     "metadata": {},
     "output_type": "execute_result"
    },
    {
     "data": {
      "image/png": "[encoded data removed]",
      "text/plain": [
       "<Figure size 432x288 with 1 Axes>"
      ]
     },
     "metadata": {
      "needs_background": "light"
     },
     "output_type": "display_data"
    }
   ],
   "source": [
    "df.plot(y = 'Open')"
   ]
  },
  {
   "cell_type": "code",
   "execution_count": 24,
   "id": "16f1dab9",
   "metadata": {},
   "outputs": [
    {
     "data": {
      "text/plain": [
       "<AxesSubplot:xlabel='Date', ylabel='Open'>"
      ]
     },
     "execution_count": 24,
     "metadata": {},
     "output_type": "execute_result"
    },
    {
     "data": {
      "image/png": "[encoded data removed]",
      "text/plain": [
       "<Figure size 432x288 with 1 Axes>"
      ]
     },
     "metadata": {
      "needs_background": "light"
     },
     "output_type": "display_data"
    }
   ],
   "source": [
    "#scatter Plot\n",
    "#for that we have to reset the index \n",
    "df.reset_index().plot(kind = 'scatter',x= 'Date', y = 'Open')"
   ]
  },
  {
   "cell_type": "code",
   "execution_count": 25,
   "id": "912ff73a",
   "metadata": {},
   "outputs": [
    {
     "data": {
      "text/plain": [
       "<AxesSubplot:ylabel='Frequency'>"
      ]
     },
     "execution_count": 25,
     "metadata": {},
     "output_type": "execute_result"
    },
    {
     "data": {
      "image/png": "[encoded data removed]",
      "text/plain": [
       "<Figure size 432x288 with 1 Axes>"
      ]
     },
     "metadata": {
      "needs_background": "light"
     },
     "output_type": "display_data"
    }
   ],
   "source": [
    "#Ploting a Histogram\n",
    "df['Volume'].plot(kind=  'hist')"
   ]
  },
  {
   "cell_type": "code",
   "execution_count": null,
   "id": "41e10f05",
   "metadata": {},
   "outputs": [],
   "source": []
  }
 ],
 "metadata": {
  "kernelspec": {
   "display_name": "Python 3 (ipykernel)",
   "language": "python",
   "name": "python3"
  },
  "language_info": {
   "codemirror_mode": {
    "name": "ipython",
    "version": 3
   },
   "file_extension": ".py",
   "mimetype": "text/x-python",
   "name": "python",
   "nbconvert_exporter": "python",
   "pygments_lexer": "ipython3",
   "version": "3.9.12"
  }
 },
 "nbformat": 4,
 "nbformat_minor": 5
}
