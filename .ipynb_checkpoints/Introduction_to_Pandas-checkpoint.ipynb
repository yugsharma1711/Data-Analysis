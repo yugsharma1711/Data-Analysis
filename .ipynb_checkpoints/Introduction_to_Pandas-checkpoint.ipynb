{
 "cells": [
  {
   "cell_type": "code",
   "execution_count": 2,
   "id": "7643b49d",
   "metadata": {},
   "outputs": [],
   "source": [
    "#Pandas Series\n",
    "#diffrences between numpy array and pandas series\n",
    "#1.Diffrent types are allowed in pandas series\n",
    "#2.Series has a name\n",
    "#3.At the backend there is numpy present\n",
    "#4.You can create manual indices in pandas series"
   ]
  },
  {
   "cell_type": "code",
   "execution_count": 2,
   "id": "75bd89c2",
   "metadata": {},
   "outputs": [],
   "source": [
    "import numpy as np\n",
    "import pandas as pd"
   ]
  },
  {
   "cell_type": "code",
   "execution_count": 3,
   "id": "bfd0c2e5",
   "metadata": {},
   "outputs": [
    {
     "data": {
      "text/plain": [
       "0    12.00\n",
       "1    11.00\n",
       "2    10.11\n",
       "dtype: float64"
      ]
     },
     "execution_count": 3,
     "metadata": {},
     "output_type": "execute_result"
    }
   ],
   "source": [
    "sample = pd.Series([12.00, 11, 10.11])\n",
    "sample"
   ]
  },
  {
   "cell_type": "code",
   "execution_count": 4,
   "id": "1c911bf8",
   "metadata": {},
   "outputs": [
    {
     "data": {
      "text/plain": [
       "0    12.00\n",
       "1    11.00\n",
       "2    10.11\n",
       "Name: Sample, dtype: float64"
      ]
     },
     "execution_count": 4,
     "metadata": {},
     "output_type": "execute_result"
    }
   ],
   "source": [
    "sample.name = 'Sample'\n",
    "sample"
   ]
  },
  {
   "cell_type": "code",
   "execution_count": 5,
   "id": "db2da261",
   "metadata": {},
   "outputs": [
    {
     "data": {
      "text/plain": [
       "First_Number     12.00\n",
       "Second_Number    11.00\n",
       "Third_Number     10.11\n",
       "Name: Sample, dtype: float64"
      ]
     },
     "execution_count": 5,
     "metadata": {},
     "output_type": "execute_result"
    }
   ],
   "source": [
    "sample.index = [\n",
    "    'First_Number',\n",
    "    'Second_Number',\n",
    "    'Third_Number'\n",
    "]\n",
    "sample\n",
    "#Looks more like a dictionary,but\n",
    "#Dictionary in Python are unordered \n",
    "#Pandas series is ordered"
   ]
  },
  {
   "cell_type": "code",
   "execution_count": 6,
   "id": "8910e442",
   "metadata": {},
   "outputs": [
    {
     "data": {
      "text/plain": [
       "First       10\n",
       "Second     100\n",
       "Third     1000\n",
       "dtype: int64"
      ]
     },
     "execution_count": 6,
     "metadata": {},
     "output_type": "execute_result"
    }
   ],
   "source": [
    "#You can directly create a series\n",
    "sample = pd.Series({\n",
    "    'First':10,\n",
    "    'Second':100,\n",
    "    'Third' :1000\n",
    "})\n",
    "sample"
   ]
  },
  {
   "cell_type": "code",
   "execution_count": 7,
   "id": "6cf41361",
   "metadata": {},
   "outputs": [
    {
     "data": {
      "text/plain": [
       "100"
      ]
     },
     "execution_count": 7,
     "metadata": {},
     "output_type": "execute_result"
    }
   ],
   "source": [
    "sample['Second']"
   ]
  },
  {
   "cell_type": "code",
   "execution_count": 8,
   "id": "9c3fe4e8",
   "metadata": {},
   "outputs": [],
   "source": [
    "#FUNDAMENTAL DIFFERNCE#\n",
    "#In Python upper limit of slice is not returned.\n",
    "#In pandas Upper Limit is indeed included."
   ]
  },
  {
   "cell_type": "code",
   "execution_count": 9,
   "id": "ab80f306",
   "metadata": {},
   "outputs": [
    {
     "data": {
      "text/plain": [
       "First      10\n",
       "Second    100\n",
       "dtype: int64"
      ]
     },
     "execution_count": 9,
     "metadata": {},
     "output_type": "execute_result"
    }
   ],
   "source": [
    "sample['First':'Second']"
   ]
  },
  {
   "cell_type": "code",
   "execution_count": 10,
   "id": "8534e7a1",
   "metadata": {},
   "outputs": [
    {
     "data": {
      "text/plain": [
       "First    10\n",
       "dtype: int64"
      ]
     },
     "execution_count": 10,
     "metadata": {},
     "output_type": "execute_result"
    }
   ],
   "source": [
    "sample[0:1]"
   ]
  },
  {
   "cell_type": "code",
   "execution_count": 11,
   "id": "fcca3944",
   "metadata": {},
   "outputs": [],
   "source": [
    "#Vectorised Opertations are applicable and works in same way as numpy\n",
    "#Boolean operations are also same"
   ]
  },
  {
   "cell_type": "code",
   "execution_count": 12,
   "id": "c6ed23a0",
   "metadata": {},
   "outputs": [
    {
     "data": {
      "text/plain": [
       "0    1\n",
       "1    2\n",
       "2    3\n",
       "3    4\n",
       "4    5\n",
       "5    5\n",
       "dtype: int64"
      ]
     },
     "execution_count": 12,
     "metadata": {},
     "output_type": "execute_result"
    }
   ],
   "source": [
    "x = pd.Series([1,2,3,4,5,5])\n",
    "x"
   ]
  },
  {
   "cell_type": "code",
   "execution_count": 13,
   "id": "e6c98488",
   "metadata": {},
   "outputs": [
    {
     "data": {
      "text/plain": [
       "3.3333333333333335"
      ]
     },
     "execution_count": 13,
     "metadata": {},
     "output_type": "execute_result"
    }
   ],
   "source": [
    "x.mean()"
   ]
  },
  {
   "cell_type": "code",
   "execution_count": 14,
   "id": "9bd4abc8",
   "metadata": {},
   "outputs": [
    {
     "data": {
      "text/plain": [
       "4    5\n",
       "5    5\n",
       "dtype: int64"
      ]
     },
     "execution_count": 14,
     "metadata": {},
     "output_type": "execute_result"
    }
   ],
   "source": [
    "x[x>4]"
   ]
  },
  {
   "cell_type": "code",
   "execution_count": 15,
   "id": "34d85b19",
   "metadata": {},
   "outputs": [
    {
     "data": {
      "text/plain": [
       "0    False\n",
       "1    False\n",
       "2    False\n",
       "3    False\n",
       "4     True\n",
       "5     True\n",
       "dtype: bool"
      ]
     },
     "execution_count": 15,
     "metadata": {},
     "output_type": "execute_result"
    }
   ],
   "source": [
    "x>4"
   ]
  },
  {
   "cell_type": "code",
   "execution_count": 16,
   "id": "7dde8b28",
   "metadata": {},
   "outputs": [
    {
     "data": {
      "text/plain": [
       "3    4\n",
       "4    5\n",
       "5    5\n",
       "dtype: int64"
      ]
     },
     "execution_count": 16,
     "metadata": {},
     "output_type": "execute_result"
    }
   ],
   "source": [
    "x[x>x.mean()]"
   ]
  },
  {
   "cell_type": "code",
   "execution_count": 17,
   "id": "7cbff004",
   "metadata": {},
   "outputs": [],
   "source": [
    "#Modifying Series"
   ]
  },
  {
   "cell_type": "code",
   "execution_count": 18,
   "id": "88b670dc",
   "metadata": {},
   "outputs": [
    {
     "data": {
      "text/plain": [
       "0    3\n",
       "1    2\n",
       "2    3\n",
       "3    4\n",
       "4    5\n",
       "5    5\n",
       "dtype: int64"
      ]
     },
     "execution_count": 18,
     "metadata": {},
     "output_type": "execute_result"
    }
   ],
   "source": [
    "x[0] = 3\n",
    "x"
   ]
  },
  {
   "cell_type": "code",
   "execution_count": 19,
   "id": "07f5fad0",
   "metadata": {},
   "outputs": [],
   "source": [
    "#DATAFRAMES\n",
    "#Usually created from csv Files\n",
    "#DataFrame is a combination of Series"
   ]
  },
  {
   "cell_type": "code",
   "execution_count": 20,
   "id": "f64bb3b3",
   "metadata": {},
   "outputs": [
    {
     "data": {
      "text/html": [
       "<div>\n",
       "<style scoped>\n",
       "    .dataframe tbody tr th:only-of-type {\n",
       "        vertical-align: middle;\n",
       "    }\n",
       "\n",
       "    .dataframe tbody tr th {\n",
       "        vertical-align: top;\n",
       "    }\n",
       "\n",
       "    .dataframe thead th {\n",
       "        text-align: right;\n",
       "    }\n",
       "</style>\n",
       "<table border=\"1\" class=\"dataframe\">\n",
       "  <thead>\n",
       "    <tr style=\"text-align: right;\">\n",
       "      <th></th>\n",
       "      <th>Name</th>\n",
       "      <th>Powers</th>\n",
       "    </tr>\n",
       "  </thead>\n",
       "  <tbody>\n",
       "    <tr>\n",
       "      <th>0</th>\n",
       "      <td>Iron Man</td>\n",
       "      <td>80</td>\n",
       "    </tr>\n",
       "    <tr>\n",
       "      <th>1</th>\n",
       "      <td>Captain America</td>\n",
       "      <td>75</td>\n",
       "    </tr>\n",
       "    <tr>\n",
       "      <th>2</th>\n",
       "      <td>Thor</td>\n",
       "      <td>98</td>\n",
       "    </tr>\n",
       "  </tbody>\n",
       "</table>\n",
       "</div>"
      ],
      "text/plain": [
       "              Name  Powers\n",
       "0         Iron Man      80\n",
       "1  Captain America      75\n",
       "2             Thor      98"
      ]
     },
     "execution_count": 20,
     "metadata": {},
     "output_type": "execute_result"
    }
   ],
   "source": [
    "#creating a dataframe\n",
    "sampleDataFrame= pd.DataFrame({\n",
    "    'Name':['Iron Man', 'Captain America', 'Thor'],\n",
    "    'Powers':[80,75,98]\n",
    "})\n",
    "sampleDataFrame"
   ]
  },
  {
   "cell_type": "code",
   "execution_count": null,
   "id": "5e51b076",
   "metadata": {},
   "outputs": [],
   "source": []
  }
 ],
 "metadata": {
  "kernelspec": {
   "display_name": "Python 3 (ipykernel)",
   "language": "python",
   "name": "python3"
  },
  "language_info": {
   "codemirror_mode": {
    "name": "ipython",
    "version": 3
   },
   "file_extension": ".py",
   "mimetype": "text/x-python",
   "name": "python",
   "nbconvert_exporter": "python",
   "pygments_lexer": "ipython3",
   "version": "3.9.12"
  }
 },
 "nbformat": 4,
 "nbformat_minor": 5
}
