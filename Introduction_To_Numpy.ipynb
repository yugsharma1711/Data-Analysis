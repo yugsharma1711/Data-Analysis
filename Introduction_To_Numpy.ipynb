{
 "cells": [
  {
   "cell_type": "code",
   "execution_count": 1,
   "id": "d0a25b68",
   "metadata": {},
   "outputs": [],
   "source": [
    "# Very important library in Python\n",
    "# Used to process Numbers and there Calculations\n",
    "# Not so popular\n",
    "# In reality we don't use Numpy directly \n",
    "\n",
    "## In Python list elements are not stored sequentially , in Numpy arrays are stored like arrays . ##"
   ]
  },
  {
   "cell_type": "code",
   "execution_count": 4,
   "id": "dbbb8a39",
   "metadata": {},
   "outputs": [
    {
     "data": {
      "text/plain": [
       "array([1, 2, 3])"
      ]
     },
     "execution_count": 4,
     "metadata": {},
     "output_type": "execute_result"
    }
   ],
   "source": [
    "import numpy as np\n",
    "n = np.array([1,2,3])\n",
    "n"
   ]
  },
  {
   "cell_type": "code",
   "execution_count": 5,
   "id": "c2a615e7",
   "metadata": {},
   "outputs": [
    {
     "data": {
      "text/plain": [
       "array([1, 2])"
      ]
     },
     "execution_count": 5,
     "metadata": {},
     "output_type": "execute_result"
    }
   ],
   "source": [
    "# Accessing elements is same as in Python List\n",
    "## MultiIndexing Diffrent ##\n",
    "nSub = n[[0,1]]\n",
    "nSub"
   ]
  },
  {
   "cell_type": "code",
   "execution_count": 6,
   "id": "79a93a18",
   "metadata": {},
   "outputs": [
    {
     "data": {
      "text/plain": [
       "dtype('int32')"
      ]
     },
     "execution_count": 6,
     "metadata": {},
     "output_type": "execute_result"
    }
   ],
   "source": [
    "# Getting type of array\n",
    "n.dtype"
   ]
  },
  {
   "cell_type": "code",
   "execution_count": 7,
   "id": "6049ad9d",
   "metadata": {},
   "outputs": [
    {
     "data": {
      "text/plain": [
       "array([1., 2., 4.])"
      ]
     },
     "execution_count": 7,
     "metadata": {},
     "output_type": "execute_result"
    }
   ],
   "source": [
    "#changing type of array \n",
    "newArray = np.array([1,2,4],dtype = np.float64)\n",
    "newArray"
   ]
  },
  {
   "cell_type": "code",
   "execution_count": 8,
   "id": "ea9cee6a",
   "metadata": {},
   "outputs": [
    {
     "name": "stderr",
     "output_type": "stream",
     "text": [
      "C:\\Users\\Ravish Kumar\\AppData\\Local\\Temp\\ipykernel_12304\\494378351.py:2: VisibleDeprecationWarning: Creating an ndarray from ragged nested sequences (which is a list-or-tuple of lists-or-tuples-or ndarrays with different lengths or shapes) is deprecated. If you meant to do this, you must specify 'dtype=object' when creating the ndarray.\n",
      "  C = np.array([[12,11,10],\n"
     ]
    },
    {
     "data": {
      "text/plain": [
       "array([list([12, 11, 10]), list([1, 2]), list([1, 2, 3])], dtype=object)"
      ]
     },
     "execution_count": 8,
     "metadata": {},
     "output_type": "execute_result"
    }
   ],
   "source": [
    "#Multi Dimension Arrays\n",
    "C = np.array([[12,11,10],\n",
    "            [1,2],\n",
    "            [1,2,3]])\n",
    "C\n",
    "#if the numbers of elements don't match in rows warning is given !!"
   ]
  },
  {
   "cell_type": "code",
   "execution_count": 9,
   "id": "e60843ca",
   "metadata": {},
   "outputs": [
    {
     "data": {
      "text/plain": [
       "array([[1, 2, 3],\n",
       "       [4, 5, 6],\n",
       "       [7, 8, 9]])"
      ]
     },
     "execution_count": 9,
     "metadata": {},
     "output_type": "execute_result"
    }
   ],
   "source": [
    "Md = np.array([[1,2,3],\n",
    "              [4,5,6],\n",
    "              [7,8,9]])\n",
    "Md"
   ]
  },
  {
   "cell_type": "code",
   "execution_count": 10,
   "id": "728f44d1",
   "metadata": {},
   "outputs": [
    {
     "data": {
      "text/plain": [
       "2"
      ]
     },
     "execution_count": 10,
     "metadata": {},
     "output_type": "execute_result"
    }
   ],
   "source": [
    "Md[0][1]"
   ]
  },
  {
   "cell_type": "code",
   "execution_count": 11,
   "id": "92d4425f",
   "metadata": {},
   "outputs": [
    {
     "data": {
      "text/plain": [
       "array([4, 5, 6])"
      ]
     },
     "execution_count": 11,
     "metadata": {},
     "output_type": "execute_result"
    }
   ],
   "source": [
    "Md[1]"
   ]
  },
  {
   "cell_type": "code",
   "execution_count": 12,
   "id": "c5ab0baa",
   "metadata": {},
   "outputs": [
    {
     "data": {
      "text/plain": [
       "array([[4, 5, 6],\n",
       "       [7, 8, 9]])"
      ]
     },
     "execution_count": 12,
     "metadata": {},
     "output_type": "execute_result"
    }
   ],
   "source": [
    "Md[1:]"
   ]
  },
  {
   "cell_type": "code",
   "execution_count": 13,
   "id": "4c1b1463",
   "metadata": {},
   "outputs": [
    {
     "data": {
      "text/plain": [
       "array([2, 3])"
      ]
     },
     "execution_count": 13,
     "metadata": {},
     "output_type": "execute_result"
    }
   ],
   "source": [
    "Md[0][1:]"
   ]
  },
  {
   "cell_type": "code",
   "execution_count": 14,
   "id": "3e7f8c17",
   "metadata": {},
   "outputs": [
    {
     "data": {
      "text/plain": [
       "array([[0, 0, 0],\n",
       "       [4, 5, 6],\n",
       "       [7, 8, 9]])"
      ]
     },
     "execution_count": 14,
     "metadata": {},
     "output_type": "execute_result"
    }
   ],
   "source": [
    "Md[0] = 0\n",
    "Md\n",
    "#It automatically fits the size"
   ]
  },
  {
   "cell_type": "code",
   "execution_count": 15,
   "id": "8d85a25c",
   "metadata": {},
   "outputs": [
    {
     "data": {
      "text/plain": [
       "15"
      ]
     },
     "execution_count": 15,
     "metadata": {},
     "output_type": "execute_result"
    }
   ],
   "source": [
    "sum(Md[1])"
   ]
  },
  {
   "cell_type": "code",
   "execution_count": 16,
   "id": "d0cb3871",
   "metadata": {},
   "outputs": [
    {
     "data": {
      "text/plain": [
       "array([2, 3, 4])"
      ]
     },
     "execution_count": 16,
     "metadata": {},
     "output_type": "execute_result"
    }
   ],
   "source": [
    "#Brodcasting and Vectorised Operations\n",
    "arr = np.array([1,2,3])\n",
    "arr += 1\n",
    "arr"
   ]
  },
  {
   "cell_type": "code",
   "execution_count": 35,
   "id": "41e4d1d0",
   "metadata": {},
   "outputs": [
    {
     "data": {
      "text/plain": [
       "array([2, 3, 4])"
      ]
     },
     "execution_count": 35,
     "metadata": {},
     "output_type": "execute_result"
    }
   ],
   "source": [
    "_arr = np.array([1,2,3])\n",
    "arr + _arr"
   ]
  },
  {
   "cell_type": "code",
   "execution_count": 36,
   "id": "919c10c8",
   "metadata": {},
   "outputs": [
    {
     "name": "stdout",
     "output_type": "stream",
     "text": [
      "[2 3 4]\n"
     ]
    },
    {
     "data": {
      "text/plain": [
       "array([False,  True,  True])"
      ]
     },
     "execution_count": 36,
     "metadata": {},
     "output_type": "execute_result"
    }
   ],
   "source": [
    "# Boolean Arrays\n",
    "# Not used directly but used for boolean opearations\n",
    "print(arr)\n",
    "arr >=3"
   ]
  },
  {
   "cell_type": "code",
   "execution_count": 41,
   "id": "3446b904",
   "metadata": {},
   "outputs": [
    {
     "name": "stdout",
     "output_type": "stream",
     "text": [
      "[2 3 4]\n"
     ]
    },
    {
     "data": {
      "text/plain": [
       "array([3, 4])"
      ]
     },
     "execution_count": 41,
     "metadata": {},
     "output_type": "execute_result"
    }
   ],
   "source": [
    "print(arr)\n",
    "arr[arr>2]"
   ]
  },
  {
   "cell_type": "code",
   "execution_count": 20,
   "id": "531090ea",
   "metadata": {},
   "outputs": [
    {
     "data": {
      "text/plain": [
       "array([2])"
      ]
     },
     "execution_count": 20,
     "metadata": {},
     "output_type": "execute_result"
    }
   ],
   "source": [
    "arr[(arr == 0) | (arr == 2)]"
   ]
  },
  {
   "cell_type": "code",
   "execution_count": 21,
   "id": "7df18a58",
   "metadata": {},
   "outputs": [],
   "source": [
    "# Boolean operators return Boolean Arrays which are used for filtering "
   ]
  },
  {
   "cell_type": "code",
   "execution_count": 42,
   "id": "ccf660f2",
   "metadata": {},
   "outputs": [],
   "source": [
    "a = np.array([1,2,3])"
   ]
  },
  {
   "cell_type": "code",
   "execution_count": 45,
   "id": "995c3b58",
   "metadata": {},
   "outputs": [
    {
     "data": {
      "text/plain": [
       "array([1, 2, 3])"
      ]
     },
     "execution_count": 45,
     "metadata": {},
     "output_type": "execute_result"
    }
   ],
   "source": [
    "a[a>0]"
   ]
  },
  {
   "cell_type": "code",
   "execution_count": 46,
   "id": "2c7658ed",
   "metadata": {},
   "outputs": [
    {
     "data": {
      "text/plain": [
       "2.0"
      ]
     },
     "execution_count": 46,
     "metadata": {},
     "output_type": "execute_result"
    }
   ],
   "source": [
    "a.mean()"
   ]
  },
  {
   "cell_type": "code",
   "execution_count": 47,
   "id": "e31fa09a",
   "metadata": {},
   "outputs": [
    {
     "data": {
      "text/plain": [
       "array([3])"
      ]
     },
     "execution_count": 47,
     "metadata": {},
     "output_type": "execute_result"
    }
   ],
   "source": [
    "a[a>a.mean()]"
   ]
  },
  {
   "cell_type": "code",
   "execution_count": 48,
   "id": "0d4be8dd",
   "metadata": {},
   "outputs": [],
   "source": [
    "#Comparing sizeof in Python and Numpy"
   ]
  },
  {
   "cell_type": "code",
   "execution_count": 52,
   "id": "6f5511fe",
   "metadata": {},
   "outputs": [
    {
     "data": {
      "text/plain": [
       "28"
      ]
     },
     "execution_count": 52,
     "metadata": {},
     "output_type": "execute_result"
    }
   ],
   "source": [
    "i = 10\n",
    "i.__sizeof__()"
   ]
  },
  {
   "cell_type": "code",
   "execution_count": 54,
   "id": "c53aaefd",
   "metadata": {},
   "outputs": [
    {
     "data": {
      "text/plain": [
       "4"
      ]
     },
     "execution_count": 54,
     "metadata": {},
     "output_type": "execute_result"
    }
   ],
   "source": [
    "np.dtype(int).itemsize"
   ]
  },
  {
   "cell_type": "code",
   "execution_count": null,
   "id": "f99bcf48",
   "metadata": {},
   "outputs": [],
   "source": [
    "    "
   ]
  }
 ],
 "metadata": {
  "kernelspec": {
   "display_name": "Python 3 (ipykernel)",
   "language": "python",
   "name": "python3"
  },
  "language_info": {
   "codemirror_mode": {
    "name": "ipython",
    "version": 3
   },
   "file_extension": ".py",
   "mimetype": "text/x-python",
   "name": "python",
   "nbconvert_exporter": "python",
   "pygments_lexer": "ipython3",
   "version": "3.9.12"
  }
 },
 "nbformat": 4,
 "nbformat_minor": 5
}
