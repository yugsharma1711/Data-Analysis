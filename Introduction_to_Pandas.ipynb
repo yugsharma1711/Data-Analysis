{
 "cells": [
  {
   "cell_type": "code",
   "execution_count": 2,
   "id": "7643b49d",
   "metadata": {},
   "outputs": [],
   "source": [
    "#Pandas Series\n",
    "#diffrences between numpy array and pandas series\n",
    "#1.Diffrent types are allowed in pandas series\n",
    "#2.Series has a name\n",
    "#3.At the backend there is numpy present\n",
    "#4.You can create manual indices in pandas series"
   ]
  },
  {
   "cell_type": "code",
   "execution_count": 3,
   "id": "75bd89c2",
   "metadata": {},
   "outputs": [],
   "source": [
    "import numpy as np\n",
    "import pandas as pd"
   ]
  },
  {
   "cell_type": "code",
   "execution_count": 4,
   "id": "bfd0c2e5",
   "metadata": {},
   "outputs": [
    {
     "data": {
      "text/plain": [
       "0    12.00\n",
       "1    11.00\n",
       "2    10.11\n",
       "dtype: float64"
      ]
     },
     "execution_count": 4,
     "metadata": {},
     "output_type": "execute_result"
    }
   ],
   "source": [
    "sample = pd.Series([12.00, 11, 10.11])\n",
    "sample"
   ]
  },
  {
   "cell_type": "code",
   "execution_count": 5,
   "id": "1c911bf8",
   "metadata": {},
   "outputs": [
    {
     "data": {
      "text/plain": [
       "0    12.00\n",
       "1    11.00\n",
       "2    10.11\n",
       "Name: Sample, dtype: float64"
      ]
     },
     "execution_count": 5,
     "metadata": {},
     "output_type": "execute_result"
    }
   ],
   "source": [
    "sample.name = 'Sample'\n",
    "sample"
   ]
  },
  {
   "cell_type": "code",
   "execution_count": 6,
   "id": "db2da261",
   "metadata": {},
   "outputs": [
    {
     "data": {
      "text/plain": [
       "First_Number     12.00\n",
       "Second_Number    11.00\n",
       "Third_Number     10.11\n",
       "Name: Sample, dtype: float64"
      ]
     },
     "execution_count": 6,
     "metadata": {},
     "output_type": "execute_result"
    }
   ],
   "source": [
    "sample.index = [\n",
    "    'First_Number',\n",
    "    'Second_Number',\n",
    "    'Third_Number'\n",
    "]\n",
    "sample\n",
    "#Looks more like a dictionary,but\n",
    "#Dictionary in Python are unordered \n",
    "#Pandas series is ordered"
   ]
  },
  {
   "cell_type": "code",
   "execution_count": 7,
   "id": "8910e442",
   "metadata": {},
   "outputs": [
    {
     "data": {
      "text/plain": [
       "First       10\n",
       "Second     100\n",
       "Third     1000\n",
       "dtype: int64"
      ]
     },
     "execution_count": 7,
     "metadata": {},
     "output_type": "execute_result"
    }
   ],
   "source": [
    "#You can directly create a series\n",
    "sample = pd.Series({\n",
    "    'First':10,\n",
    "    'Second':100,\n",
    "    'Third' :1000\n",
    "})\n",
    "sample"
   ]
  },
  {
   "cell_type": "code",
   "execution_count": 8,
   "id": "6cf41361",
   "metadata": {},
   "outputs": [
    {
     "data": {
      "text/plain": [
       "100"
      ]
     },
     "execution_count": 8,
     "metadata": {},
     "output_type": "execute_result"
    }
   ],
   "source": [
    "sample['Second']"
   ]
  },
  {
   "cell_type": "code",
   "execution_count": 9,
   "id": "9c3fe4e8",
   "metadata": {},
   "outputs": [],
   "source": [
    "#FUNDAMENTAL DIFFERNCE#\n",
    "#In Python upper limit of slice is not returned.\n",
    "#In pandas Upper Limit is indeed included."
   ]
  },
  {
   "cell_type": "code",
   "execution_count": 10,
   "id": "ab80f306",
   "metadata": {},
   "outputs": [
    {
     "data": {
      "text/plain": [
       "First      10\n",
       "Second    100\n",
       "dtype: int64"
      ]
     },
     "execution_count": 10,
     "metadata": {},
     "output_type": "execute_result"
    }
   ],
   "source": [
    "sample['First':'Second']"
   ]
  },
  {
   "cell_type": "code",
   "execution_count": 11,
   "id": "8534e7a1",
   "metadata": {},
   "outputs": [
    {
     "data": {
      "text/plain": [
       "First    10\n",
       "dtype: int64"
      ]
     },
     "execution_count": 11,
     "metadata": {},
     "output_type": "execute_result"
    }
   ],
   "source": [
    "sample[0:1]"
   ]
  },
  {
   "cell_type": "code",
   "execution_count": 12,
   "id": "fcca3944",
   "metadata": {},
   "outputs": [],
   "source": [
    "#Vectorised Opertations are applicable and works in same way as numpy\n",
    "#Boolean operations are also same"
   ]
  },
  {
   "cell_type": "code",
   "execution_count": 13,
   "id": "c6ed23a0",
   "metadata": {},
   "outputs": [
    {
     "data": {
      "text/plain": [
       "0    1\n",
       "1    2\n",
       "2    3\n",
       "3    4\n",
       "4    5\n",
       "5    5\n",
       "dtype: int64"
      ]
     },
     "execution_count": 13,
     "metadata": {},
     "output_type": "execute_result"
    }
   ],
   "source": [
    "x = pd.Series([1,2,3,4,5,5])\n",
    "x"
   ]
  },
  {
   "cell_type": "code",
   "execution_count": 14,
   "id": "e6c98488",
   "metadata": {},
   "outputs": [
    {
     "data": {
      "text/plain": [
       "3.3333333333333335"
      ]
     },
     "execution_count": 14,
     "metadata": {},
     "output_type": "execute_result"
    }
   ],
   "source": [
    "x.mean()"
   ]
  },
  {
   "cell_type": "code",
   "execution_count": 15,
   "id": "9bd4abc8",
   "metadata": {},
   "outputs": [
    {
     "data": {
      "text/plain": [
       "4    5\n",
       "5    5\n",
       "dtype: int64"
      ]
     },
     "execution_count": 15,
     "metadata": {},
     "output_type": "execute_result"
    }
   ],
   "source": [
    "x[x>4]"
   ]
  },
  {
   "cell_type": "code",
   "execution_count": 16,
   "id": "34d85b19",
   "metadata": {},
   "outputs": [
    {
     "data": {
      "text/plain": [
       "0    False\n",
       "1    False\n",
       "2    False\n",
       "3    False\n",
       "4     True\n",
       "5     True\n",
       "dtype: bool"
      ]
     },
     "execution_count": 16,
     "metadata": {},
     "output_type": "execute_result"
    }
   ],
   "source": [
    "x>4"
   ]
  },
  {
   "cell_type": "code",
   "execution_count": 17,
   "id": "7dde8b28",
   "metadata": {},
   "outputs": [
    {
     "data": {
      "text/plain": [
       "3    4\n",
       "4    5\n",
       "5    5\n",
       "dtype: int64"
      ]
     },
     "execution_count": 17,
     "metadata": {},
     "output_type": "execute_result"
    }
   ],
   "source": [
    "x[x>x.mean()]"
   ]
  },
  {
   "cell_type": "code",
   "execution_count": 18,
   "id": "7cbff004",
   "metadata": {},
   "outputs": [],
   "source": [
    "#Modifying Series"
   ]
  },
  {
   "cell_type": "code",
   "execution_count": 19,
   "id": "88b670dc",
   "metadata": {},
   "outputs": [
    {
     "data": {
      "text/plain": [
       "0    3\n",
       "1    2\n",
       "2    3\n",
       "3    4\n",
       "4    5\n",
       "5    5\n",
       "dtype: int64"
      ]
     },
     "execution_count": 19,
     "metadata": {},
     "output_type": "execute_result"
    }
   ],
   "source": [
    "x[0] = 3\n",
    "x"
   ]
  },
  {
   "cell_type": "code",
   "execution_count": 20,
   "id": "07f5fad0",
   "metadata": {},
   "outputs": [],
   "source": [
    "#DATAFRAMES\n",
    "#Usually created from csv Files\n",
    "#DataFrame is a combination of Series"
   ]
  },
  {
   "cell_type": "code",
   "execution_count": 21,
   "id": "f64bb3b3",
   "metadata": {},
   "outputs": [
    {
     "data": {
      "text/html": [
       "<div>\n",
       "<style scoped>\n",
       "    .dataframe tbody tr th:only-of-type {\n",
       "        vertical-align: middle;\n",
       "    }\n",
       "\n",
       "    .dataframe tbody tr th {\n",
       "        vertical-align: top;\n",
       "    }\n",
       "\n",
       "    .dataframe thead th {\n",
       "        text-align: right;\n",
       "    }\n",
       "</style>\n",
       "<table border=\"1\" class=\"dataframe\">\n",
       "  <thead>\n",
       "    <tr style=\"text-align: right;\">\n",
       "      <th></th>\n",
       "      <th>Name</th>\n",
       "      <th>Powers</th>\n",
       "    </tr>\n",
       "  </thead>\n",
       "  <tbody>\n",
       "    <tr>\n",
       "      <th>0</th>\n",
       "      <td>Iron Man</td>\n",
       "      <td>80</td>\n",
       "    </tr>\n",
       "    <tr>\n",
       "      <th>1</th>\n",
       "      <td>Captain America</td>\n",
       "      <td>75</td>\n",
       "    </tr>\n",
       "    <tr>\n",
       "      <th>2</th>\n",
       "      <td>Thor</td>\n",
       "      <td>98</td>\n",
       "    </tr>\n",
       "  </tbody>\n",
       "</table>\n",
       "</div>"
      ],
      "text/plain": [
       "              Name  Powers\n",
       "0         Iron Man      80\n",
       "1  Captain America      75\n",
       "2             Thor      98"
      ]
     },
     "execution_count": 21,
     "metadata": {},
     "output_type": "execute_result"
    }
   ],
   "source": [
    "#creating a dataframe\n",
    "sampleDataFrame= pd.DataFrame({\n",
    "    'Name':['Iron Man', 'Captain America', 'Thor'],\n",
    "    'Powers':[80,75,98]\n",
    "})\n",
    "sampleDataFrame"
   ]
  },
  {
   "cell_type": "code",
   "execution_count": 22,
   "id": "ff73291f",
   "metadata": {},
   "outputs": [
    {
     "data": {
      "text/plain": [
       "0           Iron Man\n",
       "1    Captain America\n",
       "2               Thor\n",
       "Name: Name, dtype: object"
      ]
     },
     "execution_count": 22,
     "metadata": {},
     "output_type": "execute_result"
    }
   ],
   "source": [
    "sampleDataFrame['Name']"
   ]
  },
  {
   "cell_type": "code",
   "execution_count": 23,
   "id": "96e55b26",
   "metadata": {},
   "outputs": [
    {
     "data": {
      "text/plain": [
       "RangeIndex(start=0, stop=3, step=1)"
      ]
     },
     "execution_count": 23,
     "metadata": {},
     "output_type": "execute_result"
    }
   ],
   "source": [
    "sampleDataFrame.index"
   ]
  },
  {
   "cell_type": "code",
   "execution_count": 24,
   "id": "93869ba0",
   "metadata": {},
   "outputs": [
    {
     "data": {
      "text/html": [
       "<div>\n",
       "<style scoped>\n",
       "    .dataframe tbody tr th:only-of-type {\n",
       "        vertical-align: middle;\n",
       "    }\n",
       "\n",
       "    .dataframe tbody tr th {\n",
       "        vertical-align: top;\n",
       "    }\n",
       "\n",
       "    .dataframe thead th {\n",
       "        text-align: right;\n",
       "    }\n",
       "</style>\n",
       "<table border=\"1\" class=\"dataframe\">\n",
       "  <thead>\n",
       "    <tr style=\"text-align: right;\">\n",
       "      <th></th>\n",
       "      <th>Powers</th>\n",
       "    </tr>\n",
       "  </thead>\n",
       "  <tbody>\n",
       "    <tr>\n",
       "      <th>count</th>\n",
       "      <td>3.000000</td>\n",
       "    </tr>\n",
       "    <tr>\n",
       "      <th>mean</th>\n",
       "      <td>84.333333</td>\n",
       "    </tr>\n",
       "    <tr>\n",
       "      <th>std</th>\n",
       "      <td>12.096832</td>\n",
       "    </tr>\n",
       "    <tr>\n",
       "      <th>min</th>\n",
       "      <td>75.000000</td>\n",
       "    </tr>\n",
       "    <tr>\n",
       "      <th>25%</th>\n",
       "      <td>77.500000</td>\n",
       "    </tr>\n",
       "    <tr>\n",
       "      <th>50%</th>\n",
       "      <td>80.000000</td>\n",
       "    </tr>\n",
       "    <tr>\n",
       "      <th>75%</th>\n",
       "      <td>89.000000</td>\n",
       "    </tr>\n",
       "    <tr>\n",
       "      <th>max</th>\n",
       "      <td>98.000000</td>\n",
       "    </tr>\n",
       "  </tbody>\n",
       "</table>\n",
       "</div>"
      ],
      "text/plain": [
       "          Powers\n",
       "count   3.000000\n",
       "mean   84.333333\n",
       "std    12.096832\n",
       "min    75.000000\n",
       "25%    77.500000\n",
       "50%    80.000000\n",
       "75%    89.000000\n",
       "max    98.000000"
      ]
     },
     "execution_count": 24,
     "metadata": {},
     "output_type": "execute_result"
    }
   ],
   "source": [
    "sampleDataFrame.describe()"
   ]
  },
  {
   "cell_type": "code",
   "execution_count": 25,
   "id": "b155d0e5",
   "metadata": {},
   "outputs": [
    {
     "data": {
      "text/html": [
       "<div>\n",
       "<style scoped>\n",
       "    .dataframe tbody tr th:only-of-type {\n",
       "        vertical-align: middle;\n",
       "    }\n",
       "\n",
       "    .dataframe tbody tr th {\n",
       "        vertical-align: top;\n",
       "    }\n",
       "\n",
       "    .dataframe thead th {\n",
       "        text-align: right;\n",
       "    }\n",
       "</style>\n",
       "<table border=\"1\" class=\"dataframe\">\n",
       "  <thead>\n",
       "    <tr style=\"text-align: right;\">\n",
       "      <th></th>\n",
       "      <th>Name</th>\n",
       "      <th>Powers</th>\n",
       "    </tr>\n",
       "  </thead>\n",
       "  <tbody>\n",
       "    <tr>\n",
       "      <th>Super_1</th>\n",
       "      <td>Iron Man</td>\n",
       "      <td>80</td>\n",
       "    </tr>\n",
       "    <tr>\n",
       "      <th>Super_2</th>\n",
       "      <td>Captain America</td>\n",
       "      <td>75</td>\n",
       "    </tr>\n",
       "    <tr>\n",
       "      <th>Super_3</th>\n",
       "      <td>Thor</td>\n",
       "      <td>98</td>\n",
       "    </tr>\n",
       "  </tbody>\n",
       "</table>\n",
       "</div>"
      ],
      "text/plain": [
       "                    Name  Powers\n",
       "Super_1         Iron Man      80\n",
       "Super_2  Captain America      75\n",
       "Super_3             Thor      98"
      ]
     },
     "execution_count": 25,
     "metadata": {},
     "output_type": "execute_result"
    }
   ],
   "source": [
    "sampleDataFrame.index = ['Super_1', \n",
    "                        'Super_2',\n",
    "                        'Super_3']\n",
    "sampleDataFrame"
   ]
  },
  {
   "cell_type": "code",
   "execution_count": 26,
   "id": "2f63f2d5",
   "metadata": {},
   "outputs": [],
   "source": [
    "#Selecting items in DataFrames\n"
   ]
  },
  {
   "cell_type": "code",
   "execution_count": 27,
   "id": "70f935a3",
   "metadata": {},
   "outputs": [
    {
     "data": {
      "text/plain": [
       "Name      Iron Man\n",
       "Powers          80\n",
       "Name: Super_1, dtype: object"
      ]
     },
     "execution_count": 27,
     "metadata": {},
     "output_type": "execute_result"
    }
   ],
   "source": [
    "#Selecting rows\n",
    "sampleDataFrame.loc['Super_1']  #Element by Index"
   ]
  },
  {
   "cell_type": "code",
   "execution_count": 28,
   "id": "aff05828",
   "metadata": {},
   "outputs": [
    {
     "data": {
      "text/plain": [
       "Name      Thor\n",
       "Powers      98\n",
       "Name: Super_3, dtype: object"
      ]
     },
     "execution_count": 28,
     "metadata": {},
     "output_type": "execute_result"
    }
   ],
   "source": [
    "sampleDataFrame.iloc[-1] #Element by Position"
   ]
  },
  {
   "cell_type": "code",
   "execution_count": 29,
   "id": "8328dbe0",
   "metadata": {},
   "outputs": [
    {
     "data": {
      "text/plain": [
       "Super_1    80\n",
       "Super_2    75\n",
       "Super_3    98\n",
       "Name: Powers, dtype: int64"
      ]
     },
     "execution_count": 29,
     "metadata": {},
     "output_type": "execute_result"
    }
   ],
   "source": [
    "#Selecting Columns\n",
    "sampleDataFrame['Powers']"
   ]
  },
  {
   "cell_type": "code",
   "execution_count": 30,
   "id": "ebe2ac6c",
   "metadata": {},
   "outputs": [
    {
     "data": {
      "text/plain": [
       "Super_1    80\n",
       "Super_2    75\n",
       "Name: Powers, dtype: int64"
      ]
     },
     "execution_count": 30,
     "metadata": {},
     "output_type": "execute_result"
    }
   ],
   "source": [
    "sampleDataFrame.loc['Super_1':'Super_2','Powers'] #loc['Start':'end', items to be selected]"
   ]
  },
  {
   "cell_type": "code",
   "execution_count": 31,
   "id": "3e40ef4a",
   "metadata": {},
   "outputs": [
    {
     "data": {
      "text/html": [
       "<div>\n",
       "<style scoped>\n",
       "    .dataframe tbody tr th:only-of-type {\n",
       "        vertical-align: middle;\n",
       "    }\n",
       "\n",
       "    .dataframe tbody tr th {\n",
       "        vertical-align: top;\n",
       "    }\n",
       "\n",
       "    .dataframe thead th {\n",
       "        text-align: right;\n",
       "    }\n",
       "</style>\n",
       "<table border=\"1\" class=\"dataframe\">\n",
       "  <thead>\n",
       "    <tr style=\"text-align: right;\">\n",
       "      <th></th>\n",
       "      <th>Name</th>\n",
       "      <th>Powers</th>\n",
       "    </tr>\n",
       "  </thead>\n",
       "  <tbody>\n",
       "    <tr>\n",
       "      <th>Super_1</th>\n",
       "      <td>Iron Man</td>\n",
       "      <td>80</td>\n",
       "    </tr>\n",
       "    <tr>\n",
       "      <th>Super_2</th>\n",
       "      <td>Captain America</td>\n",
       "      <td>75</td>\n",
       "    </tr>\n",
       "  </tbody>\n",
       "</table>\n",
       "</div>"
      ],
      "text/plain": [
       "                    Name  Powers\n",
       "Super_1         Iron Man      80\n",
       "Super_2  Captain America      75"
      ]
     },
     "execution_count": 31,
     "metadata": {},
     "output_type": "execute_result"
    }
   ],
   "source": [
    "sampleDataFrame.loc['Super_1': 'Super_2', ['Name', 'Powers']]"
   ]
  },
  {
   "cell_type": "code",
   "execution_count": 32,
   "id": "7b6b20c4",
   "metadata": {},
   "outputs": [
    {
     "data": {
      "text/html": [
       "<div>\n",
       "<style scoped>\n",
       "    .dataframe tbody tr th:only-of-type {\n",
       "        vertical-align: middle;\n",
       "    }\n",
       "\n",
       "    .dataframe tbody tr th {\n",
       "        vertical-align: top;\n",
       "    }\n",
       "\n",
       "    .dataframe thead th {\n",
       "        text-align: right;\n",
       "    }\n",
       "</style>\n",
       "<table border=\"1\" class=\"dataframe\">\n",
       "  <thead>\n",
       "    <tr style=\"text-align: right;\">\n",
       "      <th></th>\n",
       "      <th>Name</th>\n",
       "      <th>Powers</th>\n",
       "    </tr>\n",
       "  </thead>\n",
       "  <tbody>\n",
       "    <tr>\n",
       "      <th>Super_1</th>\n",
       "      <td>Iron Man</td>\n",
       "      <td>80</td>\n",
       "    </tr>\n",
       "    <tr>\n",
       "      <th>Super_3</th>\n",
       "      <td>Thor</td>\n",
       "      <td>98</td>\n",
       "    </tr>\n",
       "  </tbody>\n",
       "</table>\n",
       "</div>"
      ],
      "text/plain": [
       "             Name  Powers\n",
       "Super_1  Iron Man      80\n",
       "Super_3      Thor      98"
      ]
     },
     "execution_count": 32,
     "metadata": {},
     "output_type": "execute_result"
    }
   ],
   "source": [
    "sampleDataFrame.loc[sampleDataFrame['Powers'] > 75]"
   ]
  },
  {
   "cell_type": "code",
   "execution_count": 41,
   "id": "0b450ed0",
   "metadata": {},
   "outputs": [
    {
     "data": {
      "text/html": [
       "<div>\n",
       "<style scoped>\n",
       "    .dataframe tbody tr th:only-of-type {\n",
       "        vertical-align: middle;\n",
       "    }\n",
       "\n",
       "    .dataframe tbody tr th {\n",
       "        vertical-align: top;\n",
       "    }\n",
       "\n",
       "    .dataframe thead th {\n",
       "        text-align: right;\n",
       "    }\n",
       "</style>\n",
       "<table border=\"1\" class=\"dataframe\">\n",
       "  <thead>\n",
       "    <tr style=\"text-align: right;\">\n",
       "      <th></th>\n",
       "      <th>Name</th>\n",
       "      <th>Powers</th>\n",
       "    </tr>\n",
       "  </thead>\n",
       "  <tbody>\n",
       "    <tr>\n",
       "      <th>Super_2</th>\n",
       "      <td>Captain America</td>\n",
       "      <td>75</td>\n",
       "    </tr>\n",
       "    <tr>\n",
       "      <th>Super_3</th>\n",
       "      <td>Thor</td>\n",
       "      <td>98</td>\n",
       "    </tr>\n",
       "  </tbody>\n",
       "</table>\n",
       "</div>"
      ],
      "text/plain": [
       "                    Name  Powers\n",
       "Super_2  Captain America      75\n",
       "Super_3             Thor      98"
      ]
     },
     "execution_count": 41,
     "metadata": {},
     "output_type": "execute_result"
    }
   ],
   "source": [
    "#Dropping data\n",
    "#While Dropping data it is immutable it is not changing the underlying data frame .\n",
    "sampleDataFrame.drop(columns = 'Powers') #Dropping columns\n",
    "sampleDataFrame.drop('Super_1') #Droping Rows"
   ]
  },
  {
   "cell_type": "code",
   "execution_count": 46,
   "id": "e5a6a43d",
   "metadata": {},
   "outputs": [
    {
     "data": {
      "text/html": [
       "<div>\n",
       "<style scoped>\n",
       "    .dataframe tbody tr th:only-of-type {\n",
       "        vertical-align: middle;\n",
       "    }\n",
       "\n",
       "    .dataframe tbody tr th {\n",
       "        vertical-align: top;\n",
       "    }\n",
       "\n",
       "    .dataframe thead th {\n",
       "        text-align: right;\n",
       "    }\n",
       "</style>\n",
       "<table border=\"1\" class=\"dataframe\">\n",
       "  <thead>\n",
       "    <tr style=\"text-align: right;\">\n",
       "      <th></th>\n",
       "      <th>Name</th>\n",
       "      <th>Powers</th>\n",
       "    </tr>\n",
       "  </thead>\n",
       "  <tbody>\n",
       "    <tr>\n",
       "      <th>Super_1</th>\n",
       "      <td>Iron Man Avenger</td>\n",
       "      <td>90</td>\n",
       "    </tr>\n",
       "    <tr>\n",
       "      <th>Super_2</th>\n",
       "      <td>Captain America Avenger</td>\n",
       "      <td>85</td>\n",
       "    </tr>\n",
       "    <tr>\n",
       "      <th>Super_3</th>\n",
       "      <td>Thor Avenger</td>\n",
       "      <td>108</td>\n",
       "    </tr>\n",
       "  </tbody>\n",
       "</table>\n",
       "</div>"
      ],
      "text/plain": [
       "                            Name Powers\n",
       "Super_1         Iron Man Avenger     90\n",
       "Super_2  Captain America Avenger     85\n",
       "Super_3             Thor Avenger    108"
      ]
     },
     "execution_count": 46,
     "metadata": {},
     "output_type": "execute_result"
    }
   ],
   "source": [
    "#Opertions between DataFrames and Series\n",
    "sampleSeries = pd.Series([10, ' Avenger'] , index = ['Powers', 'Name'])\n",
    "sampleDataFrame + sampleSeries"
   ]
  },
  {
   "cell_type": "code",
   "execution_count": 47,
   "id": "db934bef",
   "metadata": {},
   "outputs": [
    {
     "data": {
      "text/html": [
       "<div>\n",
       "<style scoped>\n",
       "    .dataframe tbody tr th:only-of-type {\n",
       "        vertical-align: middle;\n",
       "    }\n",
       "\n",
       "    .dataframe tbody tr th {\n",
       "        vertical-align: top;\n",
       "    }\n",
       "\n",
       "    .dataframe thead th {\n",
       "        text-align: right;\n",
       "    }\n",
       "</style>\n",
       "<table border=\"1\" class=\"dataframe\">\n",
       "  <thead>\n",
       "    <tr style=\"text-align: right;\">\n",
       "      <th></th>\n",
       "      <th>HP</th>\n",
       "      <th>Health</th>\n",
       "      <th>Name</th>\n",
       "      <th>Powers</th>\n",
       "    </tr>\n",
       "  </thead>\n",
       "  <tbody>\n",
       "    <tr>\n",
       "      <th>Super_1</th>\n",
       "      <td>NaN</td>\n",
       "      <td>NaN</td>\n",
       "      <td>NaN</td>\n",
       "      <td>NaN</td>\n",
       "    </tr>\n",
       "    <tr>\n",
       "      <th>Super_2</th>\n",
       "      <td>NaN</td>\n",
       "      <td>NaN</td>\n",
       "      <td>NaN</td>\n",
       "      <td>NaN</td>\n",
       "    </tr>\n",
       "    <tr>\n",
       "      <th>Super_3</th>\n",
       "      <td>NaN</td>\n",
       "      <td>NaN</td>\n",
       "      <td>NaN</td>\n",
       "      <td>NaN</td>\n",
       "    </tr>\n",
       "  </tbody>\n",
       "</table>\n",
       "</div>"
      ],
      "text/plain": [
       "         HP  Health Name  Powers\n",
       "Super_1 NaN     NaN  NaN     NaN\n",
       "Super_2 NaN     NaN  NaN     NaN\n",
       "Super_3 NaN     NaN  NaN     NaN"
      ]
     },
     "execution_count": 47,
     "metadata": {},
     "output_type": "execute_result"
    }
   ],
   "source": [
    "#Another Type of Operations\n",
    "_sampleSeries = pd.Series([10,10], index = ['HP', 'Health'])\n",
    "sampleDataFrame + _sampleSeries"
   ]
  },
  {
   "cell_type": "code",
   "execution_count": 48,
   "id": "c6ef2868",
   "metadata": {},
   "outputs": [],
   "source": [
    "#Adding new Columns\n",
    "_hp = pd.Series([80, 85, 100], index = ['Super_1', 'Super_2', 'Super_3'])\n",
    "sampleDataFrame['HP'] = _hp"
   ]
  },
  {
   "cell_type": "code",
   "execution_count": 57,
   "id": "704eec28",
   "metadata": {},
   "outputs": [
    {
     "data": {
      "text/html": [
       "<div>\n",
       "<style scoped>\n",
       "    .dataframe tbody tr th:only-of-type {\n",
       "        vertical-align: middle;\n",
       "    }\n",
       "\n",
       "    .dataframe tbody tr th {\n",
       "        vertical-align: top;\n",
       "    }\n",
       "\n",
       "    .dataframe thead th {\n",
       "        text-align: right;\n",
       "    }\n",
       "</style>\n",
       "<table border=\"1\" class=\"dataframe\">\n",
       "  <thead>\n",
       "    <tr style=\"text-align: right;\">\n",
       "      <th></th>\n",
       "      <th>Name</th>\n",
       "      <th>Powers</th>\n",
       "      <th>HP</th>\n",
       "    </tr>\n",
       "  </thead>\n",
       "  <tbody>\n",
       "    <tr>\n",
       "      <th>Super_1</th>\n",
       "      <td>Iron Man</td>\n",
       "      <td>80</td>\n",
       "      <td>80</td>\n",
       "    </tr>\n",
       "    <tr>\n",
       "      <th>Super_2</th>\n",
       "      <td>Captain America</td>\n",
       "      <td>75</td>\n",
       "      <td>85</td>\n",
       "    </tr>\n",
       "    <tr>\n",
       "      <th>Super_3</th>\n",
       "      <td>Thor</td>\n",
       "      <td>98</td>\n",
       "      <td>100</td>\n",
       "    </tr>\n",
       "  </tbody>\n",
       "</table>\n",
       "</div>"
      ],
      "text/plain": [
       "                    Name  Powers   HP\n",
       "Super_1         Iron Man      80   80\n",
       "Super_2  Captain America      75   85\n",
       "Super_3             Thor      98  100"
      ]
     },
     "execution_count": 57,
     "metadata": {},
     "output_type": "execute_result"
    }
   ],
   "source": [
    "sampleDataFrame"
   ]
  },
  {
   "cell_type": "code",
   "execution_count": 61,
   "id": "379a4622",
   "metadata": {},
   "outputs": [
    {
     "data": {
      "text/html": [
       "<div>\n",
       "<style scoped>\n",
       "    .dataframe tbody tr th:only-of-type {\n",
       "        vertical-align: middle;\n",
       "    }\n",
       "\n",
       "    .dataframe tbody tr th {\n",
       "        vertical-align: top;\n",
       "    }\n",
       "\n",
       "    .dataframe thead th {\n",
       "        text-align: right;\n",
       "    }\n",
       "</style>\n",
       "<table border=\"1\" class=\"dataframe\">\n",
       "  <thead>\n",
       "    <tr style=\"text-align: right;\">\n",
       "      <th></th>\n",
       "      <th>Name</th>\n",
       "      <th>Powers</th>\n",
       "      <th>HP</th>\n",
       "    </tr>\n",
       "  </thead>\n",
       "  <tbody>\n",
       "    <tr>\n",
       "      <th>Leader</th>\n",
       "      <td>Iron Man</td>\n",
       "      <td>80</td>\n",
       "      <td>80</td>\n",
       "    </tr>\n",
       "    <tr>\n",
       "      <th>Super_2</th>\n",
       "      <td>Captain America</td>\n",
       "      <td>75</td>\n",
       "      <td>85</td>\n",
       "    </tr>\n",
       "    <tr>\n",
       "      <th>Super_3</th>\n",
       "      <td>Thor</td>\n",
       "      <td>98</td>\n",
       "      <td>100</td>\n",
       "    </tr>\n",
       "  </tbody>\n",
       "</table>\n",
       "</div>"
      ],
      "text/plain": [
       "                    Name  Powers   HP\n",
       "Leader          Iron Man      80   80\n",
       "Super_2  Captain America      75   85\n",
       "Super_3             Thor      98  100"
      ]
     },
     "execution_count": 61,
     "metadata": {},
     "output_type": "execute_result"
    }
   ],
   "source": [
    "#Usually '=' signifies the underlying data is changed"
   ]
  },
  {
   "cell_type": "code",
   "execution_count": 63,
   "id": "de281248",
   "metadata": {},
   "outputs": [
    {
     "data": {
      "text/html": [
       "<div>\n",
       "<style scoped>\n",
       "    .dataframe tbody tr th:only-of-type {\n",
       "        vertical-align: middle;\n",
       "    }\n",
       "\n",
       "    .dataframe tbody tr th {\n",
       "        vertical-align: top;\n",
       "    }\n",
       "\n",
       "    .dataframe thead th {\n",
       "        text-align: right;\n",
       "    }\n",
       "</style>\n",
       "<table border=\"1\" class=\"dataframe\">\n",
       "  <thead>\n",
       "    <tr style=\"text-align: right;\">\n",
       "      <th></th>\n",
       "      <th>Name</th>\n",
       "      <th>Powers</th>\n",
       "      <th>Max Power</th>\n",
       "    </tr>\n",
       "  </thead>\n",
       "  <tbody>\n",
       "    <tr>\n",
       "      <th>Lead Avenger</th>\n",
       "      <td>Iron Man</td>\n",
       "      <td>80</td>\n",
       "      <td>80</td>\n",
       "    </tr>\n",
       "    <tr>\n",
       "      <th>Super_2</th>\n",
       "      <td>Captain America</td>\n",
       "      <td>75</td>\n",
       "      <td>85</td>\n",
       "    </tr>\n",
       "    <tr>\n",
       "      <th>Super_3</th>\n",
       "      <td>Thor</td>\n",
       "      <td>98</td>\n",
       "      <td>100</td>\n",
       "    </tr>\n",
       "  </tbody>\n",
       "</table>\n",
       "</div>"
      ],
      "text/plain": [
       "                         Name  Powers  Max Power\n",
       "Lead Avenger         Iron Man      80         80\n",
       "Super_2       Captain America      75         85\n",
       "Super_3                  Thor      98        100"
      ]
     },
     "execution_count": 63,
     "metadata": {},
     "output_type": "execute_result"
    }
   ],
   "source": [
    "#Changing index and columns\n",
    "sampleDataFrame.rename(\n",
    "    columns = {\n",
    "        'HP' : 'Max Power'\n",
    "    },\n",
    "    index= {\n",
    "        'Super_1':'Lead Avenger'\n",
    "    }\n",
    "    )\n",
    "#Again Immutable"
   ]
  },
  {
   "cell_type": "code",
   "execution_count": 109,
   "id": "027a5fee",
   "metadata": {},
   "outputs": [
    {
     "data": {
      "text/html": [
       "<div>\n",
       "<style scoped>\n",
       "    .dataframe tbody tr th:only-of-type {\n",
       "        vertical-align: middle;\n",
       "    }\n",
       "\n",
       "    .dataframe tbody tr th {\n",
       "        vertical-align: top;\n",
       "    }\n",
       "\n",
       "    .dataframe thead th {\n",
       "        text-align: right;\n",
       "    }\n",
       "</style>\n",
       "<table border=\"1\" class=\"dataframe\">\n",
       "  <thead>\n",
       "    <tr style=\"text-align: right;\">\n",
       "      <th></th>\n",
       "      <th>Name</th>\n",
       "      <th>Powers</th>\n",
       "      <th>Max Power</th>\n",
       "      <th>FIghting Factor</th>\n",
       "    </tr>\n",
       "  </thead>\n",
       "  <tbody>\n",
       "    <tr>\n",
       "      <th>Lead Avenger</th>\n",
       "      <td>Iron Man</td>\n",
       "      <td>80</td>\n",
       "      <td>80</td>\n",
       "      <td>1.000000</td>\n",
       "    </tr>\n",
       "    <tr>\n",
       "      <th>Super_2</th>\n",
       "      <td>Captain America</td>\n",
       "      <td>75</td>\n",
       "      <td>85</td>\n",
       "      <td>1.133333</td>\n",
       "    </tr>\n",
       "    <tr>\n",
       "      <th>Super_3</th>\n",
       "      <td>Thor</td>\n",
       "      <td>98</td>\n",
       "      <td>100</td>\n",
       "      <td>1.020408</td>\n",
       "    </tr>\n",
       "  </tbody>\n",
       "</table>\n",
       "</div>"
      ],
      "text/plain": [
       "                         Name  Powers  Max Power  FIghting Factor\n",
       "Lead Avenger         Iron Man      80         80         1.000000\n",
       "Super_2       Captain America      75         85         1.133333\n",
       "Super_3                  Thor      98        100         1.020408"
      ]
     },
     "execution_count": 109,
     "metadata": {},
     "output_type": "execute_result"
    }
   ],
   "source": [
    "sampleDataFrame"
   ]
  },
  {
   "cell_type": "code",
   "execution_count": 110,
   "id": "a599b3cb",
   "metadata": {},
   "outputs": [],
   "source": [
    "sampleDataFrame = sampleDataFrame.rename(\n",
    "    columns = {\n",
    "        'HP' : 'Max Power'\n",
    "    },\n",
    "    index= {\n",
    "        'Super_1':'Lead Avenger'\n",
    "    }\n",
    "    )"
   ]
  },
  {
   "cell_type": "code",
   "execution_count": 111,
   "id": "6ddd00ef",
   "metadata": {},
   "outputs": [
    {
     "data": {
      "text/html": [
       "<div>\n",
       "<style scoped>\n",
       "    .dataframe tbody tr th:only-of-type {\n",
       "        vertical-align: middle;\n",
       "    }\n",
       "\n",
       "    .dataframe tbody tr th {\n",
       "        vertical-align: top;\n",
       "    }\n",
       "\n",
       "    .dataframe thead th {\n",
       "        text-align: right;\n",
       "    }\n",
       "</style>\n",
       "<table border=\"1\" class=\"dataframe\">\n",
       "  <thead>\n",
       "    <tr style=\"text-align: right;\">\n",
       "      <th></th>\n",
       "      <th>Name</th>\n",
       "      <th>Powers</th>\n",
       "      <th>Max Power</th>\n",
       "      <th>FIghting Factor</th>\n",
       "    </tr>\n",
       "  </thead>\n",
       "  <tbody>\n",
       "    <tr>\n",
       "      <th>Lead Avenger</th>\n",
       "      <td>Iron Man</td>\n",
       "      <td>80</td>\n",
       "      <td>80</td>\n",
       "      <td>1.000000</td>\n",
       "    </tr>\n",
       "    <tr>\n",
       "      <th>Super_2</th>\n",
       "      <td>Captain America</td>\n",
       "      <td>75</td>\n",
       "      <td>85</td>\n",
       "      <td>1.133333</td>\n",
       "    </tr>\n",
       "    <tr>\n",
       "      <th>Super_3</th>\n",
       "      <td>Thor</td>\n",
       "      <td>98</td>\n",
       "      <td>100</td>\n",
       "      <td>1.020408</td>\n",
       "    </tr>\n",
       "  </tbody>\n",
       "</table>\n",
       "</div>"
      ],
      "text/plain": [
       "                         Name  Powers  Max Power  FIghting Factor\n",
       "Lead Avenger         Iron Man      80         80         1.000000\n",
       "Super_2       Captain America      75         85         1.133333\n",
       "Super_3                  Thor      98        100         1.020408"
      ]
     },
     "execution_count": 111,
     "metadata": {},
     "output_type": "execute_result"
    }
   ],
   "source": [
    "sampleDataFrame"
   ]
  },
  {
   "cell_type": "code",
   "execution_count": 112,
   "id": "dc8a4438",
   "metadata": {},
   "outputs": [],
   "source": [
    "sampleDataFrame['FIghting Factor'] = sampleDataFrame['Max Power']/sampleDataFrame['Powers']"
   ]
  },
  {
   "cell_type": "code",
   "execution_count": 113,
   "id": "b92f4953",
   "metadata": {},
   "outputs": [
    {
     "data": {
      "text/html": [
       "<div>\n",
       "<style scoped>\n",
       "    .dataframe tbody tr th:only-of-type {\n",
       "        vertical-align: middle;\n",
       "    }\n",
       "\n",
       "    .dataframe tbody tr th {\n",
       "        vertical-align: top;\n",
       "    }\n",
       "\n",
       "    .dataframe thead th {\n",
       "        text-align: right;\n",
       "    }\n",
       "</style>\n",
       "<table border=\"1\" class=\"dataframe\">\n",
       "  <thead>\n",
       "    <tr style=\"text-align: right;\">\n",
       "      <th></th>\n",
       "      <th>Name</th>\n",
       "      <th>Powers</th>\n",
       "      <th>Max Power</th>\n",
       "      <th>FIghting Factor</th>\n",
       "    </tr>\n",
       "  </thead>\n",
       "  <tbody>\n",
       "    <tr>\n",
       "      <th>Lead Avenger</th>\n",
       "      <td>Iron Man</td>\n",
       "      <td>80</td>\n",
       "      <td>80</td>\n",
       "      <td>1.000000</td>\n",
       "    </tr>\n",
       "    <tr>\n",
       "      <th>Super_2</th>\n",
       "      <td>Captain America</td>\n",
       "      <td>75</td>\n",
       "      <td>85</td>\n",
       "      <td>1.133333</td>\n",
       "    </tr>\n",
       "    <tr>\n",
       "      <th>Super_3</th>\n",
       "      <td>Thor</td>\n",
       "      <td>98</td>\n",
       "      <td>100</td>\n",
       "      <td>1.020408</td>\n",
       "    </tr>\n",
       "  </tbody>\n",
       "</table>\n",
       "</div>"
      ],
      "text/plain": [
       "                         Name  Powers  Max Power  FIghting Factor\n",
       "Lead Avenger         Iron Man      80         80         1.000000\n",
       "Super_2       Captain America      75         85         1.133333\n",
       "Super_3                  Thor      98        100         1.020408"
      ]
     },
     "execution_count": 113,
     "metadata": {},
     "output_type": "execute_result"
    }
   ],
   "source": [
    "sampleDataFrame"
   ]
  },
  {
   "cell_type": "code",
   "execution_count": 114,
   "id": "dc96a8d6",
   "metadata": {},
   "outputs": [
    {
     "data": {
      "text/html": [
       "<div>\n",
       "<style scoped>\n",
       "    .dataframe tbody tr th:only-of-type {\n",
       "        vertical-align: middle;\n",
       "    }\n",
       "\n",
       "    .dataframe tbody tr th {\n",
       "        vertical-align: top;\n",
       "    }\n",
       "\n",
       "    .dataframe thead th {\n",
       "        text-align: right;\n",
       "    }\n",
       "</style>\n",
       "<table border=\"1\" class=\"dataframe\">\n",
       "  <thead>\n",
       "    <tr style=\"text-align: right;\">\n",
       "      <th></th>\n",
       "      <th>Name</th>\n",
       "      <th>Powers</th>\n",
       "      <th>Max Power</th>\n",
       "      <th>FIghting Factor</th>\n",
       "    </tr>\n",
       "  </thead>\n",
       "  <tbody>\n",
       "    <tr>\n",
       "      <th>Lead Avenger</th>\n",
       "      <td>Iron Man</td>\n",
       "      <td>80</td>\n",
       "      <td>80</td>\n",
       "      <td>1.000000</td>\n",
       "    </tr>\n",
       "    <tr>\n",
       "      <th>Super_2</th>\n",
       "      <td>Captain America</td>\n",
       "      <td>75</td>\n",
       "      <td>85</td>\n",
       "      <td>1.133333</td>\n",
       "    </tr>\n",
       "    <tr>\n",
       "      <th>Super_3</th>\n",
       "      <td>Thor</td>\n",
       "      <td>98</td>\n",
       "      <td>100</td>\n",
       "      <td>1.020408</td>\n",
       "    </tr>\n",
       "  </tbody>\n",
       "</table>\n",
       "</div>"
      ],
      "text/plain": [
       "                         Name  Powers  Max Power  FIghting Factor\n",
       "Lead Avenger         Iron Man      80         80         1.000000\n",
       "Super_2       Captain America      75         85         1.133333\n",
       "Super_3                  Thor      98        100         1.020408"
      ]
     },
     "execution_count": 114,
     "metadata": {},
     "output_type": "execute_result"
    }
   ],
   "source": [
    "sampleDataFrame"
   ]
  },
  {
   "cell_type": "code",
   "execution_count": 115,
   "id": "6c4e6507",
   "metadata": {},
   "outputs": [],
   "source": [
    "#Reading Data From CSV File\n",
    "#Lets you import data from a external source into your Notebook"
   ]
  },
  {
   "cell_type": "code",
   "execution_count": 116,
   "id": "b03ed09c",
   "metadata": {},
   "outputs": [
    {
     "data": {
      "text/plain": [
       "<function pandas.io.parsers.readers.read_csv(filepath_or_buffer: 'FilePath | ReadCsvBuffer[bytes] | ReadCsvBuffer[str]', sep=<no_default>, delimiter=None, header='infer', names=<no_default>, index_col=None, usecols=None, squeeze=None, prefix=<no_default>, mangle_dupe_cols=True, dtype: 'DtypeArg | None' = None, engine: 'CSVEngine | None' = None, converters=None, true_values=None, false_values=None, skipinitialspace=False, skiprows=None, skipfooter=0, nrows=None, na_values=None, keep_default_na=True, na_filter=True, verbose=False, skip_blank_lines=True, parse_dates=None, infer_datetime_format=False, keep_date_col=False, date_parser=None, dayfirst=False, cache_dates=True, iterator=False, chunksize=None, compression: 'CompressionOptions' = 'infer', thousands=None, decimal: 'str' = '.', lineterminator=None, quotechar='\"', quoting=0, doublequote=True, escapechar=None, comment=None, encoding=None, encoding_errors: 'str | None' = 'strict', dialect=None, error_bad_lines=None, warn_bad_lines=None, on_bad_lines=None, delim_whitespace=False, low_memory=True, memory_map=False, float_precision=None, storage_options: 'StorageOptions' = None)>"
      ]
     },
     "execution_count": 116,
     "metadata": {},
     "output_type": "execute_result"
    }
   ],
   "source": [
    "pd.read_csv"
   ]
  },
  {
   "cell_type": "code",
   "execution_count": 126,
   "id": "2bec9fcf",
   "metadata": {},
   "outputs": [],
   "source": [
    "superHeroes = pd.read_csv('.\\characters.csv')"
   ]
  },
  {
   "cell_type": "code",
   "execution_count": 127,
   "id": "625c6bc2",
   "metadata": {},
   "outputs": [
    {
     "data": {
      "text/html": [
       "<div>\n",
       "<style scoped>\n",
       "    .dataframe tbody tr th:only-of-type {\n",
       "        vertical-align: middle;\n",
       "    }\n",
       "\n",
       "    .dataframe tbody tr th {\n",
       "        vertical-align: top;\n",
       "    }\n",
       "\n",
       "    .dataframe thead th {\n",
       "        text-align: right;\n",
       "    }\n",
       "</style>\n",
       "<table border=\"1\" class=\"dataframe\">\n",
       "  <thead>\n",
       "    <tr style=\"text-align: right;\">\n",
       "      <th></th>\n",
       "      <th>characterID</th>\n",
       "      <th>name</th>\n",
       "    </tr>\n",
       "  </thead>\n",
       "  <tbody>\n",
       "    <tr>\n",
       "      <th>0</th>\n",
       "      <td>1009220</td>\n",
       "      <td>Captain America</td>\n",
       "    </tr>\n",
       "    <tr>\n",
       "      <th>1</th>\n",
       "      <td>1010740</td>\n",
       "      <td>Winter Soldier</td>\n",
       "    </tr>\n",
       "    <tr>\n",
       "      <th>2</th>\n",
       "      <td>1009471</td>\n",
       "      <td>Nick Fury</td>\n",
       "    </tr>\n",
       "    <tr>\n",
       "      <th>3</th>\n",
       "      <td>1009552</td>\n",
       "      <td>S.H.I.E.L.D.</td>\n",
       "    </tr>\n",
       "    <tr>\n",
       "      <th>4</th>\n",
       "      <td>1009228</td>\n",
       "      <td>Sharon Carter</td>\n",
       "    </tr>\n",
       "  </tbody>\n",
       "</table>\n",
       "</div>"
      ],
      "text/plain": [
       "   characterID             name\n",
       "0      1009220  Captain America\n",
       "1      1010740   Winter Soldier\n",
       "2      1009471        Nick Fury\n",
       "3      1009552     S.H.I.E.L.D.\n",
       "4      1009228    Sharon Carter"
      ]
     },
     "execution_count": 127,
     "metadata": {},
     "output_type": "execute_result"
    }
   ],
   "source": [
    "#Prints first five elements\n",
    "superHeroes.head()"
   ]
  },
  {
   "cell_type": "code",
   "execution_count": 119,
   "id": "da7af033",
   "metadata": {},
   "outputs": [
    {
     "data": {
      "text/plain": [
       "characterID     int64\n",
       "name           object\n",
       "dtype: object"
      ]
     },
     "execution_count": 119,
     "metadata": {},
     "output_type": "execute_result"
    }
   ],
   "source": [
    "superHeroes.dtypes"
   ]
  },
  {
   "cell_type": "code",
   "execution_count": 120,
   "id": "7081bbf9",
   "metadata": {},
   "outputs": [
    {
     "data": {
      "text/plain": [
       "(1170, 2)"
      ]
     },
     "execution_count": 120,
     "metadata": {},
     "output_type": "execute_result"
    }
   ],
   "source": [
    "superHeroes.shape"
   ]
  },
  {
   "cell_type": "code",
   "execution_count": 121,
   "id": "301a5f73",
   "metadata": {},
   "outputs": [
    {
     "name": "stdout",
     "output_type": "stream",
     "text": [
      "<class 'pandas.core.frame.DataFrame'>\n",
      "RangeIndex: 1170 entries, 0 to 1169\n",
      "Data columns (total 2 columns):\n",
      " #   Column       Non-Null Count  Dtype \n",
      "---  ------       --------------  ----- \n",
      " 0   characterID  1170 non-null   int64 \n",
      " 1   name         1170 non-null   object\n",
      "dtypes: int64(1), object(1)\n",
      "memory usage: 18.4+ KB\n"
     ]
    }
   ],
   "source": [
    "superHeroes.info()"
   ]
  },
  {
   "cell_type": "code",
   "execution_count": 122,
   "id": "2ce73cbe",
   "metadata": {},
   "outputs": [
    {
     "data": {
      "text/html": [
       "<div>\n",
       "<style scoped>\n",
       "    .dataframe tbody tr th:only-of-type {\n",
       "        vertical-align: middle;\n",
       "    }\n",
       "\n",
       "    .dataframe tbody tr th {\n",
       "        vertical-align: top;\n",
       "    }\n",
       "\n",
       "    .dataframe thead th {\n",
       "        text-align: right;\n",
       "    }\n",
       "</style>\n",
       "<table border=\"1\" class=\"dataframe\">\n",
       "  <thead>\n",
       "    <tr style=\"text-align: right;\">\n",
       "      <th></th>\n",
       "      <th>characterID</th>\n",
       "      <th>name</th>\n",
       "    </tr>\n",
       "  </thead>\n",
       "  <tbody>\n",
       "    <tr>\n",
       "      <th>1165</th>\n",
       "      <td>1011395</td>\n",
       "      <td>Talon (Fraternity of Raptors)</td>\n",
       "    </tr>\n",
       "    <tr>\n",
       "      <th>1166</th>\n",
       "      <td>1011196</td>\n",
       "      <td>Captain Flint</td>\n",
       "    </tr>\n",
       "    <tr>\n",
       "      <th>1167</th>\n",
       "      <td>1009397</td>\n",
       "      <td>Lava-Man</td>\n",
       "    </tr>\n",
       "    <tr>\n",
       "      <th>1168</th>\n",
       "      <td>1011113</td>\n",
       "      <td>Blue Blade</td>\n",
       "    </tr>\n",
       "    <tr>\n",
       "      <th>1169</th>\n",
       "      <td>1011094</td>\n",
       "      <td>Xavin</td>\n",
       "    </tr>\n",
       "  </tbody>\n",
       "</table>\n",
       "</div>"
      ],
      "text/plain": [
       "      characterID                           name\n",
       "1165      1011395  Talon (Fraternity of Raptors)\n",
       "1166      1011196                  Captain Flint\n",
       "1167      1009397                       Lava-Man\n",
       "1168      1011113                     Blue Blade\n",
       "1169      1011094                          Xavin"
      ]
     },
     "execution_count": 122,
     "metadata": {},
     "output_type": "execute_result"
    }
   ],
   "source": [
    "superHeroes.tail()"
   ]
  },
  {
   "cell_type": "code",
   "execution_count": 123,
   "id": "75a64355",
   "metadata": {},
   "outputs": [],
   "source": [
    "superHeroes.set_index('characterID', inplace = True)"
   ]
  },
  {
   "cell_type": "code",
   "execution_count": 124,
   "id": "8a396cf8",
   "metadata": {},
   "outputs": [
    {
     "data": {
      "text/plain": [
       "name    Talon (Fraternity of Raptors)\n",
       "Name: 1011395, dtype: object"
      ]
     },
     "execution_count": 124,
     "metadata": {},
     "output_type": "execute_result"
    }
   ],
   "source": [
    "superHeroes.loc[1011395]"
   ]
  },
  {
   "cell_type": "code",
   "execution_count": 125,
   "id": "96bd6ef8",
   "metadata": {},
   "outputs": [
    {
     "data": {
      "text/html": [
       "<div>\n",
       "<style scoped>\n",
       "    .dataframe tbody tr th:only-of-type {\n",
       "        vertical-align: middle;\n",
       "    }\n",
       "\n",
       "    .dataframe tbody tr th {\n",
       "        vertical-align: top;\n",
       "    }\n",
       "\n",
       "    .dataframe thead th {\n",
       "        text-align: right;\n",
       "    }\n",
       "</style>\n",
       "<table border=\"1\" class=\"dataframe\">\n",
       "  <thead>\n",
       "    <tr style=\"text-align: right;\">\n",
       "      <th></th>\n",
       "      <th>name</th>\n",
       "    </tr>\n",
       "    <tr>\n",
       "      <th>characterID</th>\n",
       "      <th></th>\n",
       "    </tr>\n",
       "  </thead>\n",
       "  <tbody>\n",
       "    <tr>\n",
       "      <th>1009220</th>\n",
       "      <td>Captain America</td>\n",
       "    </tr>\n",
       "    <tr>\n",
       "      <th>1010740</th>\n",
       "      <td>Winter Soldier</td>\n",
       "    </tr>\n",
       "    <tr>\n",
       "      <th>1009471</th>\n",
       "      <td>Nick Fury</td>\n",
       "    </tr>\n",
       "    <tr>\n",
       "      <th>1009552</th>\n",
       "      <td>S.H.I.E.L.D.</td>\n",
       "    </tr>\n",
       "    <tr>\n",
       "      <th>1009228</th>\n",
       "      <td>Sharon Carter</td>\n",
       "    </tr>\n",
       "    <tr>\n",
       "      <th>...</th>\n",
       "      <td>...</td>\n",
       "    </tr>\n",
       "    <tr>\n",
       "      <th>1011395</th>\n",
       "      <td>Talon (Fraternity of Raptors)</td>\n",
       "    </tr>\n",
       "    <tr>\n",
       "      <th>1011196</th>\n",
       "      <td>Captain Flint</td>\n",
       "    </tr>\n",
       "    <tr>\n",
       "      <th>1009397</th>\n",
       "      <td>Lava-Man</td>\n",
       "    </tr>\n",
       "    <tr>\n",
       "      <th>1011113</th>\n",
       "      <td>Blue Blade</td>\n",
       "    </tr>\n",
       "    <tr>\n",
       "      <th>1011094</th>\n",
       "      <td>Xavin</td>\n",
       "    </tr>\n",
       "  </tbody>\n",
       "</table>\n",
       "<p>1170 rows × 1 columns</p>\n",
       "</div>"
      ],
      "text/plain": [
       "                                      name\n",
       "characterID                               \n",
       "1009220                    Captain America\n",
       "1010740                     Winter Soldier\n",
       "1009471                          Nick Fury\n",
       "1009552                       S.H.I.E.L.D.\n",
       "1009228                      Sharon Carter\n",
       "...                                    ...\n",
       "1011395      Talon (Fraternity of Raptors)\n",
       "1011196                      Captain Flint\n",
       "1009397                           Lava-Man\n",
       "1011113                         Blue Blade\n",
       "1011094                              Xavin\n",
       "\n",
       "[1170 rows x 1 columns]"
      ]
     },
     "execution_count": 125,
     "metadata": {},
     "output_type": "execute_result"
    }
   ],
   "source": [
    "superHeroes"
   ]
  },
  {
   "cell_type": "code",
   "execution_count": 144,
   "id": "c6bd2434",
   "metadata": {},
   "outputs": [],
   "source": [
    "_supes = pd.read_csv('.\\characters.csv',\n",
    "                     header= None,\n",
    "                    names = ['ID', 'Name'],\n",
    "                    index_col = 0\n",
    "                    )"
   ]
  },
  {
   "cell_type": "code",
   "execution_count": 145,
   "id": "fb87e87e",
   "metadata": {},
   "outputs": [
    {
     "data": {
      "text/html": [
       "<div>\n",
       "<style scoped>\n",
       "    .dataframe tbody tr th:only-of-type {\n",
       "        vertical-align: middle;\n",
       "    }\n",
       "\n",
       "    .dataframe tbody tr th {\n",
       "        vertical-align: top;\n",
       "    }\n",
       "\n",
       "    .dataframe thead th {\n",
       "        text-align: right;\n",
       "    }\n",
       "</style>\n",
       "<table border=\"1\" class=\"dataframe\">\n",
       "  <thead>\n",
       "    <tr style=\"text-align: right;\">\n",
       "      <th></th>\n",
       "      <th>Name</th>\n",
       "    </tr>\n",
       "    <tr>\n",
       "      <th>ID</th>\n",
       "      <th></th>\n",
       "    </tr>\n",
       "  </thead>\n",
       "  <tbody>\n",
       "    <tr>\n",
       "      <th>characterID</th>\n",
       "      <td>name</td>\n",
       "    </tr>\n",
       "    <tr>\n",
       "      <th>1009220</th>\n",
       "      <td>Captain America</td>\n",
       "    </tr>\n",
       "    <tr>\n",
       "      <th>1010740</th>\n",
       "      <td>Winter Soldier</td>\n",
       "    </tr>\n",
       "    <tr>\n",
       "      <th>1009471</th>\n",
       "      <td>Nick Fury</td>\n",
       "    </tr>\n",
       "    <tr>\n",
       "      <th>1009552</th>\n",
       "      <td>S.H.I.E.L.D.</td>\n",
       "    </tr>\n",
       "    <tr>\n",
       "      <th>...</th>\n",
       "      <td>...</td>\n",
       "    </tr>\n",
       "    <tr>\n",
       "      <th>1011395</th>\n",
       "      <td>Talon (Fraternity of Raptors)</td>\n",
       "    </tr>\n",
       "    <tr>\n",
       "      <th>1011196</th>\n",
       "      <td>Captain Flint</td>\n",
       "    </tr>\n",
       "    <tr>\n",
       "      <th>1009397</th>\n",
       "      <td>Lava-Man</td>\n",
       "    </tr>\n",
       "    <tr>\n",
       "      <th>1011113</th>\n",
       "      <td>Blue Blade</td>\n",
       "    </tr>\n",
       "    <tr>\n",
       "      <th>1011094</th>\n",
       "      <td>Xavin</td>\n",
       "    </tr>\n",
       "  </tbody>\n",
       "</table>\n",
       "<p>1171 rows × 1 columns</p>\n",
       "</div>"
      ],
      "text/plain": [
       "                                      Name\n",
       "ID                                        \n",
       "characterID                           name\n",
       "1009220                    Captain America\n",
       "1010740                     Winter Soldier\n",
       "1009471                          Nick Fury\n",
       "1009552                       S.H.I.E.L.D.\n",
       "...                                    ...\n",
       "1011395      Talon (Fraternity of Raptors)\n",
       "1011196                      Captain Flint\n",
       "1009397                           Lava-Man\n",
       "1011113                         Blue Blade\n",
       "1011094                              Xavin\n",
       "\n",
       "[1171 rows x 1 columns]"
      ]
     },
     "execution_count": 145,
     "metadata": {},
     "output_type": "execute_result"
    }
   ],
   "source": [
    "_supes"
   ]
  },
  {
   "cell_type": "code",
   "execution_count": 163,
   "id": "4ad7a8c8",
   "metadata": {},
   "outputs": [
    {
     "data": {
      "text/plain": [
       "Name    Winter Soldier\n",
       "Name: 1010740, dtype: object"
      ]
     },
     "execution_count": 163,
     "metadata": {},
     "output_type": "execute_result"
    }
   ],
   "source": [
    "_supes.loc['1010740']"
   ]
  },
  {
   "cell_type": "code",
   "execution_count": null,
   "id": "2ab3b5f2",
   "metadata": {},
   "outputs": [],
   "source": [
    "#Plotting\n",
    "#Pandas integrates with Matplotlib Library"
   ]
  },
  {
   "cell_type": "code",
   "execution_count": null,
   "id": "b4dad498",
   "metadata": {},
   "outputs": [],
   "source": []
  }
 ],
 "metadata": {
  "kernelspec": {
   "display_name": "Python 3 (ipykernel)",
   "language": "python",
   "name": "python3"
  },
  "language_info": {
   "codemirror_mode": {
    "name": "ipython",
    "version": 3
   },
   "file_extension": ".py",
   "mimetype": "text/x-python",
   "name": "python",
   "nbconvert_exporter": "python",
   "pygments_lexer": "ipython3",
   "version": "3.9.12"
  }
 },
 "nbformat": 4,
 "nbformat_minor": 5
}
